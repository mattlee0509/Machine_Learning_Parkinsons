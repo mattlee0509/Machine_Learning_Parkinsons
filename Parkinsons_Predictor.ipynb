{
 "cells": [
  {
   "cell_type": "code",
   "execution_count": 5,
   "id": "d0036e8e-d814-4091-9f55-475e1cbbf02f",
   "metadata": {},
   "outputs": [
    {
     "name": "stdout",
     "output_type": "stream",
     "text": [
      "Average MSE: 1.0341332437214248\n"
     ]
    }
   ],
   "source": [
    "import pandas as pd\n",
    "from sklearn.model_selection import KFold\n",
    "from sklearn.linear_model import LinearRegression\n",
    "from sklearn.metrics import mean_squared_error\n",
    "\n",
    "# Load your data\n",
    "park_data = pd.read_csv(\"park.csv\")\n",
    "\n",
    "# Assuming the first column is your target variable\n",
    "X = park_data.iloc[:, 1:]  # features\n",
    "y = park_data.iloc[:, 0]   # target variable\n",
    "\n",
    "# Initialize the model\n",
    "model = LinearRegression()\n",
    "\n",
    "# Setup 10-fold cross-validation\n",
    "kf = KFold(n_splits=10, shuffle=True, random_state=1)\n",
    "\n",
    "# To store the results\n",
    "scores = []\n",
    "\n",
    "# Perform 10-fold cross-validation\n",
    "for train_index, test_index in kf.split(X):\n",
    "    X_train, X_test = X.iloc[train_index], X.iloc[test_index]\n",
    "    y_train, y_test = y.iloc[train_index], y.iloc[test_index]\n",
    "    \n",
    "    # Fit the model\n",
    "    model.fit(X_train, y_train)\n",
    "    \n",
    "    # Predict on the test set\n",
    "    y_pred = model.predict(X_test)\n",
    "    \n",
    "    # Calculate the error (e.g., MSE)\n",
    "    score = mean_squared_error(y_test, y_pred)\n",
    "    scores.append(score)\n",
    "\n",
    "# Output the average error across the folds\n",
    "average_score = sum(scores) / len(scores)\n",
    "print(\"Average MSE:\", average_score)"
   ]
  },
  {
   "cell_type": "code",
   "execution_count": 4,
   "id": "a2edb916-562c-4b04-ac81-a7f729c58e5b",
   "metadata": {},
   "outputs": [
    {
     "name": "stdout",
     "output_type": "stream",
     "text": [
      "Average MSE: 1.0399451675455027\n"
     ]
    }
   ],
   "source": [
    "import pandas as pd\n",
    "from sklearn.model_selection import KFold\n",
    "from sklearn.linear_model import LinearRegression\n",
    "from sklearn.metrics import mean_squared_error\n",
    "from sklearn.preprocessing import PolynomialFeatures\n",
    "\n",
    "\n",
    "park_data = pd.read_csv(\"park.csv\")\n",
    "\n",
    "X = park_data.iloc[:, 1:]\n",
    "poly = PolynomialFeatures(degree = 2)\n",
    "X_poly = poly.fit_transform(X)\n",
    "y = park_data.iloc[:, 0]   \n",
    "\n",
    "model = LinearRegression()\n",
    "\n",
    "kf = KFold(n_splits=10, shuffle=True, random_state=1)\n",
    "\n",
    "scores = []\n",
    "\n",
    "for train_index, test_index in kf.split(X_poly):\n",
    "    X_poly_train, X_poly_test = X_poly[train_index], X_poly[test_index]\n",
    "    y_train, y_test = y.iloc[train_index], y.iloc[test_index]\n",
    "    \n",
    "    model.fit(X_poly_train, y_train)\n",
    "    \n",
    "    y_pred = model.predict(X_poly_test)\n",
    "    \n",
    "    score = mean_squared_error(y_test, y_pred)\n",
    "    scores.append(score)\n",
    "\n",
    "average_score = sum(scores) / len(scores)\n",
    "print(\"Average MSE:\", average_score)"
   ]
  },
  {
   "cell_type": "code",
   "execution_count": null,
   "id": "44598086-580d-4811-b38f-0cb1280e0f20",
   "metadata": {},
   "outputs": [],
   "source": []
  },
  {
   "cell_type": "code",
   "execution_count": null,
   "id": "86a46e39-d1aa-434b-bd53-1dedffa1655d",
   "metadata": {},
   "outputs": [],
   "source": []
  }
 ],
 "metadata": {
  "kernelspec": {
   "display_name": "Python 3 (ipykernel)",
   "language": "python",
   "name": "python3"
  },
  "language_info": {
   "codemirror_mode": {
    "name": "ipython",
    "version": 3
   },
   "file_extension": ".py",
   "mimetype": "text/x-python",
   "name": "python",
   "nbconvert_exporter": "python",
   "pygments_lexer": "ipython3",
   "version": "3.9.12"
  }
 },
 "nbformat": 4,
 "nbformat_minor": 5
}
